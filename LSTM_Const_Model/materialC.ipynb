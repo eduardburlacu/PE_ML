{
 "cells": [
  {
   "metadata": {
    "ExecuteTime": {
     "end_time": "2025-02-24T22:26:07.476066Z",
     "start_time": "2025-02-24T22:26:06.031343Z"
    }
   },
   "cell_type": "code",
   "source": [
    "import matplotlib.pyplot as plt\n",
    "import torch\n",
    "import torch.nn as nn\n",
    "import torch.utils.data as Data\n",
    "import numpy as np\n",
    "import h5py"
   ],
   "id": "474faa9bffa06775",
   "outputs": [],
   "execution_count": 1
  },
  {
   "metadata": {
    "ExecuteTime": {
     "end_time": "2025-02-24T22:31:13.854731Z",
     "start_time": "2025-02-24T22:31:13.849377Z"
    }
   },
   "cell_type": "code",
   "source": [
    "# Hyperparameters and constants\n",
    "#lr = 0.0006 CORRECT\n",
    "lr = 0.006\n",
    "batch_size = 32\n",
    "epochs = 100   # define number of training epochs\n",
    "\n",
    "# Data\n",
    "frac_train = 0.65\n",
    "# LR scheduler\n",
    "step_size = 10\n",
    "gamma = 0.9\n",
    "#Reproducibility\n",
    "seed = 40"
   ],
   "id": "7aaa38faaa3185f1",
   "outputs": [],
   "execution_count": 42
  },
  {
   "metadata": {
    "ExecuteTime": {
     "end_time": "2025-02-24T22:26:07.799685Z",
     "start_time": "2025-02-24T22:26:07.796075Z"
    }
   },
   "cell_type": "code",
   "source": [
    "# Set seed for reproducibility\n",
    "torch.manual_seed(seed)\n",
    "np.random.seed(seed)"
   ],
   "id": "940ed7fe67265eec",
   "outputs": [],
   "execution_count": 3
  },
  {
   "metadata": {
    "ExecuteTime": {
     "end_time": "2025-02-24T22:26:07.859846Z",
     "start_time": "2025-02-24T22:26:07.854335Z"
    }
   },
   "cell_type": "code",
   "source": [
    "# Define your loss function here\n",
    "class Lossfunc(object):\n",
    "    def __init__(self):\n",
    "        self.loss = nn.MSELoss()\n",
    "    def __call__(self, pred, target):\n",
    "        return self.loss(pred, target)\n",
    "    \n",
    "# This reads the matlab data from the .mat file provided\n",
    "class MatRead(object):\n",
    "    def __init__(self, file_path):\n",
    "        super(MatRead).__init__()\n",
    "\n",
    "        self.file_path = file_path\n",
    "        self.data = h5py.File(self.file_path)\n",
    "\n",
    "    def get_strain(self):\n",
    "        strain = np.array(self.data['strain']).transpose(2,0,1)\n",
    "        return torch.tensor(strain, dtype=torch.float32)\n",
    "\n",
    "    def get_stress(self):\n",
    "        stress = np.array(self.data['stress']).transpose(2,0,1)\n",
    "        return torch.tensor(stress, dtype=torch.float32)\n"
   ],
   "id": "b7a8f30133abf67a",
   "outputs": [],
   "execution_count": 4
  },
  {
   "metadata": {
    "ExecuteTime": {
     "end_time": "2025-02-24T22:26:07.949112Z",
     "start_time": "2025-02-24T22:26:07.913863Z"
    }
   },
   "cell_type": "code",
   "source": [
    "######################### Data processing #############################\n",
    "# Read data from .mat file\n",
    "path = 'Data/Material_C.mat' #Define your data path here\n",
    "data_reader = MatRead(path)\n",
    "strain = data_reader.get_strain()\n",
    "stress = data_reader.get_stress()"
   ],
   "id": "87f5745d88613442",
   "outputs": [],
   "execution_count": 5
  },
  {
   "metadata": {
    "ExecuteTime": {
     "end_time": "2025-02-24T22:26:07.984372Z",
     "start_time": "2025-02-24T22:26:07.973928Z"
    }
   },
   "cell_type": "code",
   "source": "strain.isnan().sum().item(), stress.isnan().sum().item()",
   "id": "27278c26a11906c0",
   "outputs": [
    {
     "data": {
      "text/plain": [
       "(0, 0)"
      ]
     },
     "execution_count": 6,
     "metadata": {},
     "output_type": "execute_result"
    }
   ],
   "execution_count": 6
  },
  {
   "metadata": {
    "ExecuteTime": {
     "end_time": "2025-02-24T22:26:08.034820Z",
     "start_time": "2025-02-24T22:26:08.029692Z"
    }
   },
   "cell_type": "code",
   "source": "strain.shape, stress.shape",
   "id": "5d9700d9224fae8c",
   "outputs": [
    {
     "data": {
      "text/plain": [
       "(torch.Size([1100, 50, 1]), torch.Size([1100, 50, 1]))"
      ]
     },
     "execution_count": 7,
     "metadata": {},
     "output_type": "execute_result"
    }
   ],
   "execution_count": 7
  },
  {
   "metadata": {
    "ExecuteTime": {
     "end_time": "2025-02-24T22:26:08.122265Z",
     "start_time": "2025-02-24T22:26:08.118588Z"
    }
   },
   "cell_type": "code",
   "source": [
    "# Split the data into training and testing sets\n",
    "ntrain = int(frac_train * strain.shape[0])\n",
    "ntest = strain.shape[0] - ntrain\n",
    "train_strain = strain[:ntrain, ...]\n",
    "train_stress = stress[:ntrain, ...]\n",
    "test_strain = strain[ntrain:, ...]\n",
    "test_stress = stress[ntrain:, ...]"
   ],
   "id": "9515614aafe31b68",
   "outputs": [],
   "execution_count": 8
  },
  {
   "metadata": {
    "ExecuteTime": {
     "end_time": "2025-02-24T22:26:08.169693Z",
     "start_time": "2025-02-24T22:26:08.162787Z"
    }
   },
   "cell_type": "code",
   "source": [
    "# Define data normalizer\n",
    "class DataNormalizer(object):\n",
    "    \"\"\"\n",
    "    Input shape: (dataset_size, time_steps, 6) where 6 is the number of strain/ stress components (exx, eyy, ezz, exy, eyz, ezx).\n",
    "    Normalize the strain/stress data to have range 0,1.\n",
    "    \"\"\"\n",
    "    def __init__(self, data, epsilon=1e-4):\n",
    "        self.epsilon = epsilon\n",
    "        # Compute min and max across dataset_size and time_steps\n",
    "        self.min = torch.amin(data, dim=(0,1), keepdim=True)\n",
    "        self.max = torch.amax(data, dim=(0,1), keepdim=True)\n",
    "        \n",
    "        self.range = self.max - self.min\n",
    "        # Prevent zero-range issues\n",
    "        self.range = torch.where(self.range > self.epsilon, self.range, torch.tensor(1.0))\n",
    "        \n",
    "    @torch.no_grad()\n",
    "    def normalize(self, data):\n",
    "        return (data - self.min) / self.range\n",
    "\n",
    "    def denormalize(self, data):\n",
    "        return data * self.range + self.min\n",
    "        \n",
    "# Define data normalizer\n",
    "class DataStandardizer(object):\n",
    "    \"\"\"\n",
    "    Input shape: (dataset_size, time_steps, 6) where 6 is the number of strain/ stress components (exx, eyy, ezz, exy, eyz, ezx).\n",
    "    Normalize the strain/stress data to have range 0,1.\n",
    "    \"\"\"\n",
    "    def __init__(self, data, epsilon=1e-6):\n",
    "        self.epsilon = epsilon\n",
    "        # Compute mean and std across dataset_size and time_steps\n",
    "        self.mean = torch.mean(data, dim=(0,1))\n",
    "        self.std = torch.std(data, dim=(0,1))#+self.epsilon\n",
    "    @torch.no_grad()\n",
    "    def normalize(self, data):\n",
    "        return (data - self.mean) / (self.std+self.epsilon)\n",
    "\n",
    "    def denormalize(self, data):\n",
    "        return data * self.std + self.mean"
   ],
   "id": "32bf61a614417e02",
   "outputs": [],
   "execution_count": 9
  },
  {
   "metadata": {
    "ExecuteTime": {
     "end_time": "2025-02-24T22:26:08.228496Z",
     "start_time": "2025-02-24T22:26:08.222541Z"
    }
   },
   "cell_type": "code",
   "source": [
    "# Normalize your data\n",
    "strain_normalizer   = DataStandardizer(train_strain)\n",
    "train_strain_encode = strain_normalizer.normalize(train_strain)\n",
    "test_strain_encode  = strain_normalizer.normalize(test_strain)\n",
    "\n",
    "stress_normalizer   = DataStandardizer(train_stress)\n",
    "train_stress_encode = stress_normalizer.normalize(train_stress)\n",
    "test_stress_encode  = stress_normalizer.normalize(test_stress)"
   ],
   "id": "cb1fa180913526da",
   "outputs": [],
   "execution_count": 10
  },
  {
   "metadata": {
    "ExecuteTime": {
     "end_time": "2025-02-24T22:26:08.431953Z",
     "start_time": "2025-02-24T22:26:08.275254Z"
    }
   },
   "cell_type": "code",
   "source": [
    "# Visualize a hisogram of the normalized data\n",
    "plt.figure(1)\n",
    "for i in range(1):\n",
    "    plt.subplot(2,3,i+1)\n",
    "    plt.hist(train_stress_encode[:,:,i].flatten().numpy(), bins=10, alpha=0.5, label='Train Stress')\n",
    "    plt.hist(test_stress_encode[:,:,i].flatten().numpy(), bins=10, alpha=0.5, label='Test Stress')\n",
    "    plt.legend()\n",
    "    plt.grid()\n",
    "    plt.xlabel('Normalized Stress')\n",
    "    plt.ylabel('Frequency')\n",
    "    plt.savefig(\"task_c_hist_norm.png\")\n"
   ],
   "id": "d2453b3d27f68e82",
   "outputs": [
    {
     "data": {
      "text/plain": [
       "<Figure size 640x480 with 1 Axes>"
      ],
      "image/png": "[encoded data removed]"
     },
     "metadata": {},
     "output_type": "display_data"
    }
   ],
   "execution_count": 11
  },
  {
   "metadata": {
    "ExecuteTime": {
     "end_time": "2025-02-24T22:26:08.456934Z",
     "start_time": "2025-02-24T22:26:08.451999Z"
    }
   },
   "cell_type": "code",
   "source": [
    "ndim = strain.shape[2]  # Number of components\n",
    "nstep = strain.shape[1] # Number of time steps\n",
    "dt = 1/(nstep-1)        # Time step size\n",
    "ndim, nstep, dt"
   ],
   "id": "712e3abe175b011f",
   "outputs": [
    {
     "data": {
      "text/plain": [
       "(1, 50, 0.02040816326530612)"
      ]
     },
     "execution_count": 12,
     "metadata": {},
     "output_type": "execute_result"
    }
   ],
   "execution_count": 12
  },
  {
   "metadata": {
    "ExecuteTime": {
     "end_time": "2025-02-24T22:26:08.520408Z",
     "start_time": "2025-02-24T22:26:08.514412Z"
    }
   },
   "cell_type": "code",
   "source": [
    "# Create data loader\n",
    "\n",
    "train_set = Data.TensorDataset(train_strain_encode, train_stress)\n",
    "test_set = Data.TensorDataset(test_strain_encode, test_stress)\n",
    "train_loader = Data.DataLoader(train_set, batch_size, shuffle=True)\n",
    "test_loader = Data.DataLoader(test_set, batch_size, shuffle=False)"
   ],
   "id": "b89ca85b56d83105",
   "outputs": [],
   "execution_count": 13
  },
  {
   "metadata": {
    "ExecuteTime": {
     "end_time": "2025-02-24T22:33:48.505246Z",
     "start_time": "2025-02-24T22:33:48.496908Z"
    }
   },
   "cell_type": "code",
   "source": [
    "############################# Define and train network #############################\n",
    "# Create Neural network, define loss function and optimizer\n",
    "\"\"\"\n",
    "class Const_Net(nn.Module):\n",
    "    def __init__(self):\n",
    "        super(Const_Net, self).__init__()\n",
    "        self.fc1 = nn.Linear(ndim*nstep, 3000)\n",
    "        self.fc2 = nn.Linear(3000, 1000)\n",
    "        self.fc3 = nn.Linear(1000, 300)\n",
    "        self.fc4 = nn.Linear(300, ndim*nstep)\n",
    "        \n",
    "        self.batchnorm1 = nn.BatchNorm1d(3000)\n",
    "        self.batchnorm2 = nn.BatchNorm1d(1000)\n",
    "        self.batchnorm3 = nn.BatchNorm1d(300)\n",
    "        \n",
    "    def forward(self, x):\n",
    "        x = x.flatten(start_dim=1)\n",
    "        x = torch.relu(self.fc1(x))\n",
    "        x = self.batchnorm1(x)\n",
    "        x = torch.relu(self.fc2(x))\n",
    "        x = self.batchnorm2(x)\n",
    "        x = self.fc3(x)\n",
    "        x = self.batchnorm3(x)\n",
    "        x = self.fc4(x)\n",
    "        x = x.unflatten(1, (nstep, ndim))\n",
    "        return x\n",
    "\"\"\"\n",
    "from models import LSTMStressPredictor\n",
    "#net = Const_Net()\n",
    "#net = Conv1DSeq2SeqStressPredictor(input_dim=ndim, output_dim=ndim, dropout=0.,num_blocks=8, kernel_size=11, hidden_dim=50)\n",
    "#net = Const_Net()   # specify your neural network architecture\n",
    "net =LSTMStressPredictor(\n",
    "    input_dim=ndim, output_dim=ndim, \n",
    "    hidden_dim=100,#1000, \n",
    "    num_layers=2, #2\n",
    "    dropout=0.1,\n",
    "    bidirectional=True\n",
    ")\n",
    "n_params = sum(p.numel() for p in net.parameters() if p.requires_grad) #Calculate the number of training parameters\n",
    "print('Number of parameters: %d' % n_params)"
   ],
   "id": "1f482e2f3ecaa4af",
   "outputs": [
    {
     "name": "stdout",
     "output_type": "stream",
     "text": [
      "Number of parameters: 364401\n"
     ]
    }
   ],
   "execution_count": 51
  },
  {
   "metadata": {
    "ExecuteTime": {
     "end_time": "2025-02-24T22:33:50.060520Z",
     "start_time": "2025-02-24T22:33:50.055931Z"
    }
   },
   "cell_type": "code",
   "source": [
    "loss_func = Lossfunc() #define loss function\n",
    "optimizer = torch.optim.Adam(net.parameters(), lr=lr) #define optimizer\n",
    "scheduler = torch.optim.lr_scheduler.StepLR(optimizer, step_size=step_size,gamma=gamma) #define learning rate scheduler\n"
   ],
   "id": "b560856e6ce87c27",
   "outputs": [],
   "execution_count": 52
  },
  {
   "metadata": {
    "ExecuteTime": {
     "end_time": "2025-02-24T22:33:51.620440Z",
     "start_time": "2025-02-24T22:33:51.613236Z"
    }
   },
   "cell_type": "code",
   "source": [
    "# Train network\n",
    "loss_train_list = []\n",
    "loss_test_list = []"
   ],
   "id": "ad4598f6d538f9a4",
   "outputs": [],
   "execution_count": 53
  },
  {
   "metadata": {
    "ExecuteTime": {
     "end_time": "2025-02-24T22:35:06.280514Z",
     "start_time": "2025-02-24T22:33:52.912097Z"
    }
   },
   "cell_type": "code",
   "source": [
    "print(\"Start training for {} epochs...\".format(epochs))\n",
    "for epoch in range(epochs):\n",
    "    net.train(True)\n",
    "    train_loss = 0.\n",
    "    for i, data in enumerate(train_loader):\n",
    "        optimizer.zero_grad()\n",
    "        input, target = data\n",
    "        #define forward neural network evaluation below\n",
    "        output_encode = net(input)\n",
    "        output = stress_normalizer.denormalize(output_encode)\n",
    "        \n",
    "        loss = loss_func(output, target)\n",
    "        loss.backward()\n",
    "        optimizer.step()\n",
    "        scheduler.step()\n",
    "        train_loss += loss.item()\n",
    "    \n",
    "    # Compute your test loss below\n",
    "    net.eval()\n",
    "    test_loss = 0.\n",
    "    with torch.no_grad():\n",
    "        for i, data in enumerate(test_loader):\n",
    "            input, target = data\n",
    "            output_encode = net(input)\n",
    "            output = stress_normalizer.denormalize(output_encode)\n",
    "            loss = loss_func(output, target)\n",
    "            test_loss += loss.item()\n",
    "            \n",
    "    train_loss = round(train_loss/len(train_loader),5)\n",
    "    test_loss = round(test_loss/len(test_loader),5)\n",
    "    # Print train loss every 10 epochs\n",
    "    if (epoch % 10 == 0):\n",
    "        print(\"epoch:{}, train loss:{}, test loss:{}\".format(epoch, train_loss, test_loss))\n",
    "        \n",
    "    # Save loss values for plotting\n",
    "    loss_train_list.append(train_loss)\n",
    "    loss_test_list.append(test_loss)\n",
    "\n",
    "print(\"Final Train loss:{}\".format(loss_train_list[-1]))\n",
    "print(\"Final Test loss:{}\".format(loss_test_list[-1]))\n",
    "torch.save(net.state_dict(), 'task_c_lstm_model.pth')"
   ],
   "id": "9ead4a13a86f9c5f",
   "outputs": [
    {
     "name": "stdout",
     "output_type": "stream",
     "text": [
      "Start training for 100 epochs...\n",
      "epoch:0, train loss:2.61413, test loss:1.39922\n",
      "epoch:10, train loss:0.20671, test loss:0.17294\n",
      "epoch:20, train loss:0.17758, test loss:0.14957\n",
      "epoch:30, train loss:0.17371, test loss:0.14729\n",
      "epoch:40, train loss:0.1746, test loss:0.14704\n",
      "epoch:50, train loss:0.17471, test loss:0.14702\n",
      "epoch:60, train loss:0.17572, test loss:0.14702\n",
      "epoch:70, train loss:0.17531, test loss:0.14702\n",
      "epoch:80, train loss:0.17627, test loss:0.14702\n",
      "epoch:90, train loss:0.17667, test loss:0.14702\n",
      "Final Train loss:0.17502\n",
      "Final Test loss:0.14702\n"
     ]
    }
   ],
   "execution_count": 54
  },
  {
   "metadata": {
    "ExecuteTime": {
     "end_time": "2025-02-24T22:35:11.625665Z",
     "start_time": "2025-02-24T22:35:11.597614Z"
    }
   },
   "cell_type": "code",
   "source": [
    "from numpy import save as np_save \n",
    "#loss_train_list= loss_train_list[:40]\n",
    "#loss_test_list= loss_test_list[:40]\n",
    "np_save('task_c_lstm_loss_train.npy', loss_train_list)\n",
    "\n",
    "np_save('task_c_lstm_loss_test.npy', loss_test_list)"
   ],
   "id": "3b1685a6d996723a",
   "outputs": [],
   "execution_count": 55
  },
  {
   "metadata": {
    "ExecuteTime": {
     "end_time": "2025-02-24T22:35:32.476537Z",
     "start_time": "2025-02-24T22:35:31.868918Z"
    }
   },
   "cell_type": "code",
   "source": [
    "############################# Plot your result below using Matplotlib #############################\n",
    "plt.figure(1)\n",
    "plt.plot(loss_train_list, label='Train Loss')\n",
    "plt.plot(loss_test_list, label='Test Loss')\n",
    "plt.legend()\n",
    "plt.grid()\n",
    "plt.xlabel('Epochs')\n",
    "plt.ylabel('Loss')\n",
    "plt.semilogy()\n",
    "plt.ylim(0.1, 4)\n",
    "plt.title('Train and Test Losses')\n",
    "plt.savefig(\"task_c_lstm_loss_pp.png\")\n",
    "\n",
    "\n",
    "plt.figure(2)\n",
    "plt.title('Truth Stresses vs Approximate Stresses for Sample {}'.format(0))\n",
    "strain_encode, stress = test_set[0]\n",
    "output_encode = net(strain_encode.unsqueeze(0))[0]\n",
    "output = stress_normalizer.denormalize(output_encode)\n",
    "target = stress\n",
    "for i in range(ndim):\n",
    "    plt.plot(target[:,i].detach().numpy(), label='True Stress')\n",
    "    plt.plot(output[:,i].detach().numpy(), label='Approximate Stress')\n",
    "    plt.grid()\n",
    "    if i > 2:\n",
    "        plt.xlabel('Time')\n",
    "    if i%3==0:\n",
    "        plt.ylabel('Stress')\n",
    "    if i==ndim-1:\n",
    "        plt.legend()\n",
    "plt.savefig(\"task_c_samples_0.png\")"
   ],
   "id": "6ef845a6ceaf982e",
   "outputs": [
    {
     "data": {
      "text/plain": [
       "<Figure size 640x480 with 1 Axes>"
      ],
      "image/png": "[encoded data removed]"
     },
     "metadata": {},
     "output_type": "display_data"
    },
    {
     "data": {
      "text/plain": [
       "<Figure size 640x480 with 1 Axes>"
      ],
      "image/png": "[encoded data removed]"
     },
     "metadata": {},
     "output_type": "display_data"
    }
   ],
   "execution_count": 57
  },
  {
   "metadata": {
    "ExecuteTime": {
     "end_time": "2025-02-24T22:26:23.929170Z",
     "start_time": "2025-02-24T22:26:23.926647Z"
    }
   },
   "cell_type": "code",
   "source": "",
   "id": "e9f16670319c19b2",
   "outputs": [],
   "execution_count": null
  },
  {
   "metadata": {},
   "cell_type": "markdown",
   "source": "# Try fitting epsilon(sigma) instead",
   "id": "90133ec2f018b23a"
  },
  {
   "metadata": {
    "ExecuteTime": {
     "end_time": "2025-02-24T22:26:24.060285Z",
     "start_time": "2025-02-24T22:26:23.985539Z"
    }
   },
   "cell_type": "code",
   "source": [
    "net_inv = LSTMStressPredictor(input_dim=ndim, output_dim=ndim, hidden_dim=1000, num_layers=2, dropout=0.1)\n",
    "n_params = sum(p.numel() for p in net_inv.parameters() if p.requires_grad) #Calculate the number of training parameters"
   ],
   "id": "633f27b3d7203f0e",
   "outputs": [],
   "execution_count": 20
  },
  {
   "metadata": {
    "ExecuteTime": {
     "end_time": "2025-02-24T22:26:24.088576Z",
     "start_time": "2025-02-24T22:26:24.081083Z"
    }
   },
   "cell_type": "code",
   "source": [
    "train_set_inv = Data.TensorDataset(train_strain, train_stress_encode)\n",
    "test_set_inv = Data.TensorDataset(test_strain, test_stress_encode)\n",
    "train_loader_inv = Data.DataLoader(train_set, batch_size, shuffle=True)\n",
    "test_loader_inv = Data.DataLoader(test_set, batch_size, shuffle=False)\n"
   ],
   "id": "899aa2330baab052",
   "outputs": [],
   "execution_count": 21
  },
  {
   "metadata": {
    "ExecuteTime": {
     "end_time": "2025-02-24T22:27:25.814609Z",
     "start_time": "2025-02-24T22:26:24.132306Z"
    }
   },
   "cell_type": "code",
   "source": [
    "print(\"Start training for {} epochs...\".format(epochs))\n",
    "loss_test_list_inv = []\n",
    "loss_train_list_inv = []\n",
    "for epoch in range(epochs):\n",
    "    net_inv.train(True)\n",
    "    train_loss = 0.\n",
    "    for i, data in enumerate(train_loader_inv):\n",
    "        optimizer.zero_grad()\n",
    "        target, input = data\n",
    "        #define forward neural network evaluation below\n",
    "        output_encode = net_inv(input)\n",
    "        output = strain_normalizer.denormalize(output_encode)\n",
    "        \n",
    "        loss = loss_func(output, target)\n",
    "        loss.backward()\n",
    "        optimizer.step()\n",
    "        scheduler.step()\n",
    "        train_loss += loss.item()\n",
    "    \n",
    "    # Compute your test loss below\n",
    "    net_inv.eval()\n",
    "    test_loss = 0.\n",
    "    with torch.no_grad():\n",
    "        for i, data in enumerate(test_loader_inv):\n",
    "            target, input = data\n",
    "            output_encode = net_inv(input)\n",
    "            output = strain_normalizer.denormalize(output_encode)\n",
    "            loss = loss_func(output, target)\n",
    "            test_loss += loss.item()\n",
    "            \n",
    "    train_loss = round(train_loss/len(train_loader),5)\n",
    "    test_loss = round(test_loss/len(test_loader),5)\n",
    "    # Print train loss every 10 epochs\n",
    "    if (epoch % 5 == 0):\n",
    "        print(\"epoch:{}, train loss:{}, test loss:{}\".format(epoch, train_loss, test_loss))\n",
    "        \n",
    "    # Save loss values for plotting\n",
    "    loss_train_list_inv.append(train_loss)\n",
    "    loss_test_list_inv.append(test_loss)\n",
    "\n",
    "print(\"Final Train loss:{}\".format(loss_train_list_inv[-1]))\n",
    "print(\"Final Test loss:{}\".format(loss_test_list_inv[-1]))"
   ],
   "id": "4f80b66f44173f1a",
   "outputs": [
    {
     "name": "stdout",
     "output_type": "stream",
     "text": [
      "Start training for 40 epochs...\n",
      "epoch:0, train loss:0.98968, test loss:1.12521\n"
     ]
    },
    {
     "ename": "KeyboardInterrupt",
     "evalue": "",
     "output_type": "error",
     "traceback": [
      "\u001B[0;31m---------------------------------------------------------------------------\u001B[0m",
      "\u001B[0;31mKeyboardInterrupt\u001B[0m                         Traceback (most recent call last)",
      "Cell \u001B[0;32mIn[22], line 26\u001B[0m\n\u001B[1;32m     24\u001B[0m \u001B[38;5;28;01mfor\u001B[39;00m i, data \u001B[38;5;129;01min\u001B[39;00m \u001B[38;5;28menumerate\u001B[39m(test_loader_inv):\n\u001B[1;32m     25\u001B[0m     target, \u001B[38;5;28minput\u001B[39m \u001B[38;5;241m=\u001B[39m data\n\u001B[0;32m---> 26\u001B[0m     output_encode \u001B[38;5;241m=\u001B[39m \u001B[43mnet_inv\u001B[49m\u001B[43m(\u001B[49m\u001B[38;5;28;43minput\u001B[39;49m\u001B[43m)\u001B[49m\n\u001B[1;32m     27\u001B[0m     output \u001B[38;5;241m=\u001B[39m strain_normalizer\u001B[38;5;241m.\u001B[39mdenormalize(output_encode)\n\u001B[1;32m     28\u001B[0m     loss \u001B[38;5;241m=\u001B[39m loss_func(output, target)\n",
      "File \u001B[0;32m~/miniconda3/envs/torch/lib/python3.9/site-packages/torch/nn/modules/module.py:1736\u001B[0m, in \u001B[0;36mModule._wrapped_call_impl\u001B[0;34m(self, *args, **kwargs)\u001B[0m\n\u001B[1;32m   1734\u001B[0m     \u001B[38;5;28;01mreturn\u001B[39;00m \u001B[38;5;28mself\u001B[39m\u001B[38;5;241m.\u001B[39m_compiled_call_impl(\u001B[38;5;241m*\u001B[39margs, \u001B[38;5;241m*\u001B[39m\u001B[38;5;241m*\u001B[39mkwargs)  \u001B[38;5;66;03m# type: ignore[misc]\u001B[39;00m\n\u001B[1;32m   1735\u001B[0m \u001B[38;5;28;01melse\u001B[39;00m:\n\u001B[0;32m-> 1736\u001B[0m     \u001B[38;5;28;01mreturn\u001B[39;00m \u001B[38;5;28;43mself\u001B[39;49m\u001B[38;5;241;43m.\u001B[39;49m\u001B[43m_call_impl\u001B[49m\u001B[43m(\u001B[49m\u001B[38;5;241;43m*\u001B[39;49m\u001B[43margs\u001B[49m\u001B[43m,\u001B[49m\u001B[43m \u001B[49m\u001B[38;5;241;43m*\u001B[39;49m\u001B[38;5;241;43m*\u001B[39;49m\u001B[43mkwargs\u001B[49m\u001B[43m)\u001B[49m\n",
      "File \u001B[0;32m~/miniconda3/envs/torch/lib/python3.9/site-packages/torch/nn/modules/module.py:1747\u001B[0m, in \u001B[0;36mModule._call_impl\u001B[0;34m(self, *args, **kwargs)\u001B[0m\n\u001B[1;32m   1742\u001B[0m \u001B[38;5;66;03m# If we don't have any hooks, we want to skip the rest of the logic in\u001B[39;00m\n\u001B[1;32m   1743\u001B[0m \u001B[38;5;66;03m# this function, and just call forward.\u001B[39;00m\n\u001B[1;32m   1744\u001B[0m \u001B[38;5;28;01mif\u001B[39;00m \u001B[38;5;129;01mnot\u001B[39;00m (\u001B[38;5;28mself\u001B[39m\u001B[38;5;241m.\u001B[39m_backward_hooks \u001B[38;5;129;01mor\u001B[39;00m \u001B[38;5;28mself\u001B[39m\u001B[38;5;241m.\u001B[39m_backward_pre_hooks \u001B[38;5;129;01mor\u001B[39;00m \u001B[38;5;28mself\u001B[39m\u001B[38;5;241m.\u001B[39m_forward_hooks \u001B[38;5;129;01mor\u001B[39;00m \u001B[38;5;28mself\u001B[39m\u001B[38;5;241m.\u001B[39m_forward_pre_hooks\n\u001B[1;32m   1745\u001B[0m         \u001B[38;5;129;01mor\u001B[39;00m _global_backward_pre_hooks \u001B[38;5;129;01mor\u001B[39;00m _global_backward_hooks\n\u001B[1;32m   1746\u001B[0m         \u001B[38;5;129;01mor\u001B[39;00m _global_forward_hooks \u001B[38;5;129;01mor\u001B[39;00m _global_forward_pre_hooks):\n\u001B[0;32m-> 1747\u001B[0m     \u001B[38;5;28;01mreturn\u001B[39;00m \u001B[43mforward_call\u001B[49m\u001B[43m(\u001B[49m\u001B[38;5;241;43m*\u001B[39;49m\u001B[43margs\u001B[49m\u001B[43m,\u001B[49m\u001B[43m \u001B[49m\u001B[38;5;241;43m*\u001B[39;49m\u001B[38;5;241;43m*\u001B[39;49m\u001B[43mkwargs\u001B[49m\u001B[43m)\u001B[49m\n\u001B[1;32m   1749\u001B[0m result \u001B[38;5;241m=\u001B[39m \u001B[38;5;28;01mNone\u001B[39;00m\n\u001B[1;32m   1750\u001B[0m called_always_called_hooks \u001B[38;5;241m=\u001B[39m \u001B[38;5;28mset\u001B[39m()\n",
      "File \u001B[0;32m/mnt/c/Users/Eduar/Downloads/Coursework 1-20250223/Problem_1_student/models.py:146\u001B[0m, in \u001B[0;36mLSTMStressPredictor.forward\u001B[0;34m(self, x)\u001B[0m\n\u001B[1;32m    136\u001B[0m \u001B[38;5;28;01mdef\u001B[39;00m \u001B[38;5;21mforward\u001B[39m(\u001B[38;5;28mself\u001B[39m, x:torch\u001B[38;5;241m.\u001B[39mTensor):\n\u001B[1;32m    137\u001B[0m \u001B[38;5;250m    \u001B[39m\u001B[38;5;124;03m\"\"\"\u001B[39;00m\n\u001B[1;32m    138\u001B[0m \u001B[38;5;124;03m    Forward pass.\u001B[39;00m\n\u001B[1;32m    139\u001B[0m \n\u001B[0;32m   (...)\u001B[0m\n\u001B[1;32m    144\u001B[0m \u001B[38;5;124;03m        Tensor: Output tensor with shape (batch_size, time_steps, output_dim)\u001B[39;00m\n\u001B[1;32m    145\u001B[0m \u001B[38;5;124;03m    \"\"\"\u001B[39;00m\n\u001B[0;32m--> 146\u001B[0m     out, _ \u001B[38;5;241m=\u001B[39m \u001B[38;5;28;43mself\u001B[39;49m\u001B[38;5;241;43m.\u001B[39;49m\u001B[43mlstm\u001B[49m\u001B[43m(\u001B[49m\u001B[43mx\u001B[49m\u001B[43m)\u001B[49m\n\u001B[1;32m    147\u001B[0m     out \u001B[38;5;241m=\u001B[39m \u001B[38;5;28mself\u001B[39m\u001B[38;5;241m.\u001B[39mfc1(out)\n\u001B[1;32m    148\u001B[0m     out \u001B[38;5;241m=\u001B[39m \u001B[38;5;28mself\u001B[39m\u001B[38;5;241m.\u001B[39mrelu(out)\n",
      "File \u001B[0;32m~/miniconda3/envs/torch/lib/python3.9/site-packages/torch/nn/modules/module.py:1736\u001B[0m, in \u001B[0;36mModule._wrapped_call_impl\u001B[0;34m(self, *args, **kwargs)\u001B[0m\n\u001B[1;32m   1734\u001B[0m     \u001B[38;5;28;01mreturn\u001B[39;00m \u001B[38;5;28mself\u001B[39m\u001B[38;5;241m.\u001B[39m_compiled_call_impl(\u001B[38;5;241m*\u001B[39margs, \u001B[38;5;241m*\u001B[39m\u001B[38;5;241m*\u001B[39mkwargs)  \u001B[38;5;66;03m# type: ignore[misc]\u001B[39;00m\n\u001B[1;32m   1735\u001B[0m \u001B[38;5;28;01melse\u001B[39;00m:\n\u001B[0;32m-> 1736\u001B[0m     \u001B[38;5;28;01mreturn\u001B[39;00m \u001B[38;5;28;43mself\u001B[39;49m\u001B[38;5;241;43m.\u001B[39;49m\u001B[43m_call_impl\u001B[49m\u001B[43m(\u001B[49m\u001B[38;5;241;43m*\u001B[39;49m\u001B[43margs\u001B[49m\u001B[43m,\u001B[49m\u001B[43m \u001B[49m\u001B[38;5;241;43m*\u001B[39;49m\u001B[38;5;241;43m*\u001B[39;49m\u001B[43mkwargs\u001B[49m\u001B[43m)\u001B[49m\n",
      "File \u001B[0;32m~/miniconda3/envs/torch/lib/python3.9/site-packages/torch/nn/modules/module.py:1747\u001B[0m, in \u001B[0;36mModule._call_impl\u001B[0;34m(self, *args, **kwargs)\u001B[0m\n\u001B[1;32m   1742\u001B[0m \u001B[38;5;66;03m# If we don't have any hooks, we want to skip the rest of the logic in\u001B[39;00m\n\u001B[1;32m   1743\u001B[0m \u001B[38;5;66;03m# this function, and just call forward.\u001B[39;00m\n\u001B[1;32m   1744\u001B[0m \u001B[38;5;28;01mif\u001B[39;00m \u001B[38;5;129;01mnot\u001B[39;00m (\u001B[38;5;28mself\u001B[39m\u001B[38;5;241m.\u001B[39m_backward_hooks \u001B[38;5;129;01mor\u001B[39;00m \u001B[38;5;28mself\u001B[39m\u001B[38;5;241m.\u001B[39m_backward_pre_hooks \u001B[38;5;129;01mor\u001B[39;00m \u001B[38;5;28mself\u001B[39m\u001B[38;5;241m.\u001B[39m_forward_hooks \u001B[38;5;129;01mor\u001B[39;00m \u001B[38;5;28mself\u001B[39m\u001B[38;5;241m.\u001B[39m_forward_pre_hooks\n\u001B[1;32m   1745\u001B[0m         \u001B[38;5;129;01mor\u001B[39;00m _global_backward_pre_hooks \u001B[38;5;129;01mor\u001B[39;00m _global_backward_hooks\n\u001B[1;32m   1746\u001B[0m         \u001B[38;5;129;01mor\u001B[39;00m _global_forward_hooks \u001B[38;5;129;01mor\u001B[39;00m _global_forward_pre_hooks):\n\u001B[0;32m-> 1747\u001B[0m     \u001B[38;5;28;01mreturn\u001B[39;00m \u001B[43mforward_call\u001B[49m\u001B[43m(\u001B[49m\u001B[38;5;241;43m*\u001B[39;49m\u001B[43margs\u001B[49m\u001B[43m,\u001B[49m\u001B[43m \u001B[49m\u001B[38;5;241;43m*\u001B[39;49m\u001B[38;5;241;43m*\u001B[39;49m\u001B[43mkwargs\u001B[49m\u001B[43m)\u001B[49m\n\u001B[1;32m   1749\u001B[0m result \u001B[38;5;241m=\u001B[39m \u001B[38;5;28;01mNone\u001B[39;00m\n\u001B[1;32m   1750\u001B[0m called_always_called_hooks \u001B[38;5;241m=\u001B[39m \u001B[38;5;28mset\u001B[39m()\n",
      "File \u001B[0;32m~/miniconda3/envs/torch/lib/python3.9/site-packages/torch/nn/modules/rnn.py:1123\u001B[0m, in \u001B[0;36mLSTM.forward\u001B[0;34m(self, input, hx)\u001B[0m\n\u001B[1;32m   1120\u001B[0m         hx \u001B[38;5;241m=\u001B[39m \u001B[38;5;28mself\u001B[39m\u001B[38;5;241m.\u001B[39mpermute_hidden(hx, sorted_indices)\n\u001B[1;32m   1122\u001B[0m \u001B[38;5;28;01mif\u001B[39;00m batch_sizes \u001B[38;5;129;01mis\u001B[39;00m \u001B[38;5;28;01mNone\u001B[39;00m:\n\u001B[0;32m-> 1123\u001B[0m     result \u001B[38;5;241m=\u001B[39m \u001B[43m_VF\u001B[49m\u001B[38;5;241;43m.\u001B[39;49m\u001B[43mlstm\u001B[49m\u001B[43m(\u001B[49m\n\u001B[1;32m   1124\u001B[0m \u001B[43m        \u001B[49m\u001B[38;5;28;43minput\u001B[39;49m\u001B[43m,\u001B[49m\n\u001B[1;32m   1125\u001B[0m \u001B[43m        \u001B[49m\u001B[43mhx\u001B[49m\u001B[43m,\u001B[49m\n\u001B[1;32m   1126\u001B[0m \u001B[43m        \u001B[49m\u001B[38;5;28;43mself\u001B[39;49m\u001B[38;5;241;43m.\u001B[39;49m\u001B[43m_flat_weights\u001B[49m\u001B[43m,\u001B[49m\n\u001B[1;32m   1127\u001B[0m \u001B[43m        \u001B[49m\u001B[38;5;28;43mself\u001B[39;49m\u001B[38;5;241;43m.\u001B[39;49m\u001B[43mbias\u001B[49m\u001B[43m,\u001B[49m\n\u001B[1;32m   1128\u001B[0m \u001B[43m        \u001B[49m\u001B[38;5;28;43mself\u001B[39;49m\u001B[38;5;241;43m.\u001B[39;49m\u001B[43mnum_layers\u001B[49m\u001B[43m,\u001B[49m\n\u001B[1;32m   1129\u001B[0m \u001B[43m        \u001B[49m\u001B[38;5;28;43mself\u001B[39;49m\u001B[38;5;241;43m.\u001B[39;49m\u001B[43mdropout\u001B[49m\u001B[43m,\u001B[49m\n\u001B[1;32m   1130\u001B[0m \u001B[43m        \u001B[49m\u001B[38;5;28;43mself\u001B[39;49m\u001B[38;5;241;43m.\u001B[39;49m\u001B[43mtraining\u001B[49m\u001B[43m,\u001B[49m\n\u001B[1;32m   1131\u001B[0m \u001B[43m        \u001B[49m\u001B[38;5;28;43mself\u001B[39;49m\u001B[38;5;241;43m.\u001B[39;49m\u001B[43mbidirectional\u001B[49m\u001B[43m,\u001B[49m\n\u001B[1;32m   1132\u001B[0m \u001B[43m        \u001B[49m\u001B[38;5;28;43mself\u001B[39;49m\u001B[38;5;241;43m.\u001B[39;49m\u001B[43mbatch_first\u001B[49m\u001B[43m,\u001B[49m\n\u001B[1;32m   1133\u001B[0m \u001B[43m    \u001B[49m\u001B[43m)\u001B[49m\n\u001B[1;32m   1134\u001B[0m \u001B[38;5;28;01melse\u001B[39;00m:\n\u001B[1;32m   1135\u001B[0m     result \u001B[38;5;241m=\u001B[39m _VF\u001B[38;5;241m.\u001B[39mlstm(\n\u001B[1;32m   1136\u001B[0m         \u001B[38;5;28minput\u001B[39m,\n\u001B[1;32m   1137\u001B[0m         batch_sizes,\n\u001B[0;32m   (...)\u001B[0m\n\u001B[1;32m   1144\u001B[0m         \u001B[38;5;28mself\u001B[39m\u001B[38;5;241m.\u001B[39mbidirectional,\n\u001B[1;32m   1145\u001B[0m     )\n",
      "\u001B[0;31mKeyboardInterrupt\u001B[0m: "
     ]
    }
   ],
   "execution_count": 22
  },
  {
   "metadata": {},
   "cell_type": "markdown",
   "source": "",
   "id": "106b56cd5e1027cc"
  },
  {
   "metadata": {
    "ExecuteTime": {
     "end_time": "2025-02-24T22:27:25.812307400Z",
     "start_time": "2025-02-24T05:05:54.924800Z"
    }
   },
   "cell_type": "code",
   "source": "del net_inv, train_set_inv, test_set_inv, train_loader_inv, test_loader_inv",
   "id": "f5d40b3af7512c53",
   "outputs": [],
   "execution_count": 228
  }
 ],
 "metadata": {
  "kernelspec": {
   "display_name": "Python 3",
   "language": "python",
   "name": "python3"
  },
  "language_info": {
   "codemirror_mode": {
    "name": "ipython",
    "version": 2
   },
   "file_extension": ".py",
   "mimetype": "text/x-python",
   "name": "python",
   "nbconvert_exporter": "python",
   "pygments_lexer": "ipython2",
   "version": "2.7.6"
  }
 },
 "nbformat": 4,
 "nbformat_minor": 5
}
