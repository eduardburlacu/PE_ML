{
 "cells": [
  {
   "metadata": {
    "ExecuteTime": {
     "end_time": "2025-03-04T13:56:46.208990Z",
     "start_time": "2025-03-04T13:56:44.133999Z"
    }
   },
   "cell_type": "code",
   "source": [
    "import matplotlib.pyplot as plt\n",
    "import torch\n",
    "import torch.nn as nn\n",
    "import torch.utils.data as Data\n",
    "import numpy as np\n",
    "import h5py"
   ],
   "id": "474faa9bffa06775",
   "outputs": [],
   "execution_count": 1
  },
  {
   "metadata": {
    "ExecuteTime": {
     "end_time": "2025-03-04T13:56:46.219956Z",
     "start_time": "2025-03-04T13:56:46.215844Z"
    }
   },
   "cell_type": "code",
   "source": [
    "# Hyperparameters and constants\n",
    "#lr = 0.0006 CORRECT\n",
    "lr = 0.006\n",
    "batch_size = 32\n",
    "epochs = 100   # define number of training epochs\n",
    "\n",
    "# Data\n",
    "frac_train = 0.65\n",
    "# LR scheduler\n",
    "step_size = 10\n",
    "gamma = 0.9\n",
    "#Reproducibility\n",
    "seed = 40"
   ],
   "id": "7aaa38faaa3185f1",
   "outputs": [],
   "execution_count": 2
  },
  {
   "metadata": {
    "ExecuteTime": {
     "end_time": "2025-03-04T13:56:46.604507Z",
     "start_time": "2025-03-04T13:56:46.595938Z"
    }
   },
   "cell_type": "code",
   "source": [
    "# Set seed for reproducibility\n",
    "torch.manual_seed(seed)\n",
    "np.random.seed(seed)"
   ],
   "id": "940ed7fe67265eec",
   "outputs": [],
   "execution_count": 3
  },
  {
   "metadata": {
    "ExecuteTime": {
     "end_time": "2025-03-04T13:56:46.672603Z",
     "start_time": "2025-03-04T13:56:46.667824Z"
    }
   },
   "cell_type": "code",
   "source": [
    "# Define your loss function here\n",
    "class Lossfunc(object):\n",
    "    def __init__(self):\n",
    "        self.loss = nn.SmoothL1Loss()\n",
    "    def __call__(self, pred, target):\n",
    "        return self.loss(pred, target)\n",
    "    \n",
    "# This reads the matlab data from the .mat file provided\n",
    "class MatRead(object):\n",
    "    def __init__(self, file_path):\n",
    "        super(MatRead).__init__()\n",
    "\n",
    "        self.file_path = file_path\n",
    "        self.data = h5py.File(self.file_path)\n",
    "\n",
    "    def get_strain(self):\n",
    "        strain = np.array(self.data['strain']).transpose(2,0,1)\n",
    "        return torch.tensor(strain, dtype=torch.float32)\n",
    "\n",
    "    def get_stress(self):\n",
    "        stress = np.array(self.data['stress']).transpose(2,0,1)\n",
    "        return torch.tensor(stress, dtype=torch.float32)\n"
   ],
   "id": "b7a8f30133abf67a",
   "outputs": [],
   "execution_count": 4
  },
  {
   "metadata": {
    "ExecuteTime": {
     "end_time": "2025-03-04T13:56:46.786185Z",
     "start_time": "2025-03-04T13:56:46.721910Z"
    }
   },
   "cell_type": "code",
   "source": [
    "######################### Data processing #############################\n",
    "# Read data from .mat file\n",
    "path = 'Data/Material_C.mat' #Define your data path here\n",
    "data_reader = MatRead(path)\n",
    "strain = data_reader.get_strain()\n",
    "stress = data_reader.get_stress()"
   ],
   "id": "87f5745d88613442",
   "outputs": [],
   "execution_count": 5
  },
  {
   "metadata": {
    "ExecuteTime": {
     "end_time": "2025-03-04T13:56:46.820617Z",
     "start_time": "2025-03-04T13:56:46.805049Z"
    }
   },
   "cell_type": "code",
   "source": "strain.isnan().sum().item(), stress.isnan().sum().item()",
   "id": "27278c26a11906c0",
   "outputs": [
    {
     "data": {
      "text/plain": [
       "(0, 0)"
      ]
     },
     "execution_count": 6,
     "metadata": {},
     "output_type": "execute_result"
    }
   ],
   "execution_count": 6
  },
  {
   "metadata": {
    "ExecuteTime": {
     "end_time": "2025-03-04T13:56:46.863510Z",
     "start_time": "2025-03-04T13:56:46.859302Z"
    }
   },
   "cell_type": "code",
   "source": "strain.shape, stress.shape",
   "id": "5d9700d9224fae8c",
   "outputs": [
    {
     "data": {
      "text/plain": [
       "(torch.Size([1100, 50, 1]), torch.Size([1100, 50, 1]))"
      ]
     },
     "execution_count": 7,
     "metadata": {},
     "output_type": "execute_result"
    }
   ],
   "execution_count": 7
  },
  {
   "metadata": {
    "ExecuteTime": {
     "end_time": "2025-03-04T13:56:46.922850Z",
     "start_time": "2025-03-04T13:56:46.917738Z"
    }
   },
   "cell_type": "code",
   "source": [
    "# Split the data into training and testing sets\n",
    "ntrain = int(frac_train * strain.shape[0])\n",
    "ntest = strain.shape[0] - ntrain\n",
    "train_strain = strain[:ntrain, ...]\n",
    "train_stress = stress[:ntrain, ...]\n",
    "test_strain = strain[ntrain:, ...]\n",
    "test_stress = stress[ntrain:, ...]"
   ],
   "id": "9515614aafe31b68",
   "outputs": [],
   "execution_count": 8
  },
  {
   "metadata": {
    "ExecuteTime": {
     "end_time": "2025-03-04T13:56:46.980095Z",
     "start_time": "2025-03-04T13:56:46.975495Z"
    }
   },
   "cell_type": "code",
   "source": [
    "# Define data normalizer\n",
    "class DataNormalizer(object):\n",
    "    \"\"\"\n",
    "    Input shape: (dataset_size, time_steps, 6) where 6 is the number of strain/ stress components (exx, eyy, ezz, exy, eyz, ezx).\n",
    "    Normalize the strain/stress data to have range 0,1.\n",
    "    \"\"\"\n",
    "    def __init__(self, data, epsilon=1e-4):\n",
    "        self.epsilon = epsilon\n",
    "        # Compute min and max across dataset_size and time_steps\n",
    "        self.min = torch.amin(data, dim=(0,1), keepdim=True)\n",
    "        self.max = torch.amax(data, dim=(0,1), keepdim=True)\n",
    "        \n",
    "        self.range = self.max - self.min\n",
    "        # Prevent zero-range issues\n",
    "        self.range = torch.where(self.range > self.epsilon, self.range, torch.tensor(1.0))\n",
    "        \n",
    "    @torch.no_grad()\n",
    "    def normalize(self, data):\n",
    "        return (data - self.min) / self.range\n",
    "\n",
    "    def denormalize(self, data):\n",
    "        return data * self.range + self.min\n",
    "        \n",
    "# Define data normalizer\n",
    "class DataStandardizer(object):\n",
    "    \"\"\"\n",
    "    Input shape: (dataset_size, time_steps, 6) where 6 is the number of strain/ stress components (exx, eyy, ezz, exy, eyz, ezx).\n",
    "    Normalize the strain/stress data to have range 0,1.\n",
    "    \"\"\"\n",
    "    def __init__(self, data, epsilon=1e-6):\n",
    "        self.epsilon = epsilon\n",
    "        # Compute mean and std across dataset_size and time_steps\n",
    "        self.mean = torch.mean(data, dim=(0,1))\n",
    "        self.std = torch.std(data, dim=(0,1))#+self.epsilon\n",
    "    @torch.no_grad()\n",
    "    def normalize(self, data):\n",
    "        return (data - self.mean) / (self.std+self.epsilon)\n",
    "\n",
    "    def denormalize(self, data):\n",
    "        return data * self.std + self.mean"
   ],
   "id": "32bf61a614417e02",
   "outputs": [],
   "execution_count": 9
  },
  {
   "metadata": {
    "ExecuteTime": {
     "end_time": "2025-03-04T13:56:47.037024Z",
     "start_time": "2025-03-04T13:56:47.025133Z"
    }
   },
   "cell_type": "code",
   "source": [
    "# Normalize your data\n",
    "strain_normalizer   = DataStandardizer(train_strain)\n",
    "train_strain_encode = strain_normalizer.normalize(train_strain)\n",
    "test_strain_encode  = strain_normalizer.normalize(test_strain)\n",
    "\n",
    "stress_normalizer   = DataStandardizer(train_stress)\n",
    "train_stress_encode = stress_normalizer.normalize(train_stress)\n",
    "test_stress_encode  = stress_normalizer.normalize(test_stress)"
   ],
   "id": "cb1fa180913526da",
   "outputs": [],
   "execution_count": 10
  },
  {
   "metadata": {
    "ExecuteTime": {
     "end_time": "2025-03-04T13:56:47.250211Z",
     "start_time": "2025-03-04T13:56:47.074358Z"
    }
   },
   "cell_type": "code",
   "source": [
    "# Visualize a hisogram of the normalized data\n",
    "plt.figure(1)\n",
    "for i in range(1):\n",
    "    plt.subplot(2,3,i+1)\n",
    "    plt.hist(train_stress_encode[:,:,i].flatten().numpy(), bins=10, alpha=0.5, label='Train Stress')\n",
    "    plt.hist(test_stress_encode[:,:,i].flatten().numpy(), bins=10, alpha=0.5, label='Test Stress')\n",
    "    plt.legend()\n",
    "    plt.grid()\n",
    "    plt.xlabel('Normalized Stress')\n",
    "    plt.ylabel('Frequency')\n",
    "    plt.savefig(\"task_c_hist_norm.png\")\n"
   ],
   "id": "d2453b3d27f68e82",
   "outputs": [
    {
     "data": {
      "text/plain": [
       "<Figure size 640x480 with 1 Axes>"
      ],
      "image/png": "[encoded data removed]"
     },
     "metadata": {},
     "output_type": "display_data"
    }
   ],
   "execution_count": 11
  },
  {
   "metadata": {
    "ExecuteTime": {
     "end_time": "2025-03-04T13:56:47.276665Z",
     "start_time": "2025-03-04T13:56:47.272006Z"
    }
   },
   "cell_type": "code",
   "source": [
    "ndim = strain.shape[2]  # Number of components\n",
    "nstep = strain.shape[1] # Number of time steps\n",
    "dt = 1/(nstep-1)        # Time step size\n",
    "ndim, nstep, dt"
   ],
   "id": "712e3abe175b011f",
   "outputs": [
    {
     "data": {
      "text/plain": [
       "(1, 50, 0.02040816326530612)"
      ]
     },
     "execution_count": 12,
     "metadata": {},
     "output_type": "execute_result"
    }
   ],
   "execution_count": 12
  },
  {
   "metadata": {
    "ExecuteTime": {
     "end_time": "2025-03-04T13:56:47.342847Z",
     "start_time": "2025-03-04T13:56:47.338892Z"
    }
   },
   "cell_type": "code",
   "source": [
    "# Create data loader\n",
    "\n",
    "train_set = Data.TensorDataset(train_strain_encode, train_stress)\n",
    "test_set = Data.TensorDataset(test_strain_encode, test_stress)\n",
    "train_loader = Data.DataLoader(train_set, batch_size, shuffle=True)\n",
    "test_loader = Data.DataLoader(test_set, batch_size, shuffle=False)"
   ],
   "id": "b89ca85b56d83105",
   "outputs": [],
   "execution_count": 13
  },
  {
   "metadata": {
    "ExecuteTime": {
     "end_time": "2025-03-04T13:56:47.475233Z",
     "start_time": "2025-03-04T13:56:47.410601Z"
    }
   },
   "cell_type": "code",
   "source": [
    "############################# Define and train network #############################\n",
    "# Create Neural network, define loss function and optimizer\n",
    "\"\"\"\n",
    "class Const_Net(nn.Module):\n",
    "    def __init__(self):\n",
    "        super(Const_Net, self).__init__()\n",
    "        self.fc1 = nn.Linear(ndim*nstep, 3000)\n",
    "        self.fc2 = nn.Linear(3000, 1000)\n",
    "        self.fc3 = nn.Linear(1000, 300)\n",
    "        self.fc4 = nn.Linear(300, ndim*nstep)\n",
    "        \n",
    "        self.batchnorm1 = nn.BatchNorm1d(3000)\n",
    "        self.batchnorm2 = nn.BatchNorm1d(1000)\n",
    "        self.batchnorm3 = nn.BatchNorm1d(300)\n",
    "        \n",
    "    def forward(self, x):\n",
    "        x = x.flatten(start_dim=1)\n",
    "        x = torch.relu(self.fc1(x))\n",
    "        x = self.batchnorm1(x)\n",
    "        x = torch.relu(self.fc2(x))\n",
    "        x = self.batchnorm2(x)\n",
    "        x = self.fc3(x)\n",
    "        x = self.batchnorm3(x)\n",
    "        x = self.fc4(x)\n",
    "        x = x.unflatten(1, (nstep, ndim))\n",
    "        return x\n",
    "\"\"\"\n",
    "from models import LSTMStressPredictor\n",
    "#net = Const_Net()\n",
    "#net = Conv1DSeq2SeqStressPredictor(input_dim=ndim, output_dim=ndim, dropout=0.,num_blocks=8, kernel_size=11, hidden_dim=50)\n",
    "#net = Const_Net()   # specify your neural network architecture\n",
    "net =LSTMStressPredictor(\n",
    "    input_dim=ndim, output_dim=ndim, \n",
    "    hidden_dim=100,#1000, \n",
    "    num_layers=2, #2\n",
    "    dropout=0.1,\n",
    "    bidirectional=True\n",
    ")\n",
    "n_params = sum(p.numel() for p in net.parameters() if p.requires_grad) #Calculate the number of training parameters\n",
    "print('Number of parameters: %d' % n_params)"
   ],
   "id": "1f482e2f3ecaa4af",
   "outputs": [
    {
     "name": "stdout",
     "output_type": "stream",
     "text": [
      "Number of parameters: 364401\n"
     ]
    }
   ],
   "execution_count": 14
  },
  {
   "metadata": {
    "ExecuteTime": {
     "end_time": "2025-03-04T13:56:48.513118Z",
     "start_time": "2025-03-04T13:56:47.502967Z"
    }
   },
   "cell_type": "code",
   "source": [
    "loss_func = Lossfunc() #define loss function\n",
    "optimizer = torch.optim.Adam(net.parameters(), lr=lr) #define optimizer\n",
    "scheduler = torch.optim.lr_scheduler.StepLR(optimizer, step_size=step_size,gamma=gamma) #define learning rate scheduler\n"
   ],
   "id": "b560856e6ce87c27",
   "outputs": [],
   "execution_count": 15
  },
  {
   "metadata": {
    "ExecuteTime": {
     "end_time": "2025-03-04T13:56:48.544359Z",
     "start_time": "2025-03-04T13:56:48.541329Z"
    }
   },
   "cell_type": "code",
   "source": [
    "# Train network\n",
    "loss_train_list = []\n",
    "loss_test_list = []"
   ],
   "id": "ad4598f6d538f9a4",
   "outputs": [],
   "execution_count": 16
  },
  {
   "metadata": {
    "ExecuteTime": {
     "end_time": "2025-03-04T13:58:14.525261Z",
     "start_time": "2025-03-04T13:56:48.597419Z"
    }
   },
   "cell_type": "code",
   "source": [
    "print(\"Start training for {} epochs...\".format(epochs))\n",
    "for epoch in range(epochs):\n",
    "    net.train(True)\n",
    "    train_loss = 0.\n",
    "    for i, data in enumerate(train_loader):\n",
    "        optimizer.zero_grad()\n",
    "        input, target = data\n",
    "        #define forward neural network evaluation below\n",
    "        output_encode = net(input)\n",
    "        output = stress_normalizer.denormalize(output_encode)\n",
    "        \n",
    "        loss = loss_func(output, target)\n",
    "        loss.backward()\n",
    "        optimizer.step()\n",
    "        scheduler.step()\n",
    "        train_loss += loss.item()\n",
    "    \n",
    "    # Compute your test loss below\n",
    "    net.eval()\n",
    "    test_loss = 0.\n",
    "    with torch.no_grad():\n",
    "        for i, data in enumerate(test_loader):\n",
    "            input, target = data\n",
    "            output_encode = net(input)\n",
    "            output = stress_normalizer.denormalize(output_encode)\n",
    "            loss = loss_func(output, target)\n",
    "            test_loss += loss.item()\n",
    "            \n",
    "    train_loss = round(train_loss/len(train_loader),5)\n",
    "    test_loss = round(test_loss/len(test_loader),5)\n",
    "    # Print train loss every 10 epochs\n",
    "    if (epoch % 10 == 0):\n",
    "        print(\"epoch:{}, train loss:{}, test loss:{}\".format(epoch, train_loss, test_loss))\n",
    "        \n",
    "    # Save loss values for plotting\n",
    "    loss_train_list.append(train_loss)\n",
    "    loss_test_list.append(test_loss)\n",
    "\n",
    "print(\"Final Train loss:{}\".format(loss_train_list[-1]))\n",
    "print(\"Final Test loss:{}\".format(loss_test_list[-1]))\n",
    "torch.save(net.state_dict(), 'task_c_lstm_model.pth')"
   ],
   "id": "9ead4a13a86f9c5f",
   "outputs": [
    {
     "name": "stdout",
     "output_type": "stream",
     "text": [
      "Start training for 100 epochs...\n",
      "epoch:0, train loss:1.04384, test loss:0.73899\n",
      "epoch:10, train loss:0.12764, test loss:0.11234\n",
      "epoch:20, train loss:0.11279, test loss:0.09894\n",
      "epoch:30, train loss:0.1111, test loss:0.09763\n",
      "epoch:40, train loss:0.11019, test loss:0.09752\n",
      "epoch:50, train loss:0.11094, test loss:0.0975\n",
      "epoch:60, train loss:0.11089, test loss:0.0975\n",
      "epoch:70, train loss:0.11033, test loss:0.0975\n",
      "epoch:80, train loss:0.11079, test loss:0.0975\n",
      "epoch:90, train loss:0.11009, test loss:0.0975\n",
      "Final Train loss:0.1099\n",
      "Final Test loss:0.0975\n"
     ]
    }
   ],
   "execution_count": 17
  },
  {
   "metadata": {
    "ExecuteTime": {
     "end_time": "2025-03-04T13:58:14.591998Z",
     "start_time": "2025-03-04T13:58:14.575731Z"
    }
   },
   "cell_type": "code",
   "source": [
    "from numpy import save as np_save \n",
    "#loss_train_list= loss_train_list[:40]\n",
    "#loss_test_list= loss_test_list[:40]\n",
    "np_save('task_c_lstm_loss_train.npy', loss_train_list)\n",
    "\n",
    "np_save('task_c_lstm_loss_test.npy', loss_test_list)"
   ],
   "id": "3b1685a6d996723a",
   "outputs": [],
   "execution_count": 18
  },
  {
   "metadata": {
    "ExecuteTime": {
     "end_time": "2025-03-04T14:02:31.810671Z",
     "start_time": "2025-03-04T14:02:31.437359Z"
    }
   },
   "cell_type": "code",
   "source": [
    "############################# Plot your result below using Matplotlib #############################\n",
    "plt.figure(1)\n",
    "plt.plot(loss_train_list, label='Train Loss')\n",
    "plt.plot(loss_test_list, label='Test Loss')\n",
    "plt.legend()\n",
    "plt.grid()\n",
    "plt.xlabel('Epochs')\n",
    "plt.ylabel('Loss')\n",
    "plt.semilogy()\n",
    "plt.ylim(0.01, 1.2)\n",
    "plt.title('Train and Test Losses')\n",
    "plt.savefig(\"task_c_lstm_loss_pp.png\")\n",
    "\n",
    "\n",
    "plt.figure(2)\n",
    "plt.title('Truth Stresses vs Approximate Stresses for Sample {}'.format(0))\n",
    "strain_encode, stress = test_set[20]\n",
    "output_encode = net(strain_encode.unsqueeze(0))[0]\n",
    "output = stress_normalizer.denormalize(output_encode)\n",
    "target = stress\n",
    "for i in range(ndim):\n",
    "    plt.plot(target[:,i].detach().numpy(), label='True Stress')\n",
    "    plt.plot(output[:,i].detach().numpy(), label='Approximate Stress')\n",
    "    plt.grid()\n",
    "    if i > 2:\n",
    "        plt.xlabel('Time')\n",
    "    if i%3==0:\n",
    "        plt.ylabel('Stress')\n",
    "    if i==ndim-1:\n",
    "        plt.legend()\n",
    "plt.savefig(\"task_c_samples_20.png\")"
   ],
   "id": "6ef845a6ceaf982e",
   "outputs": [
    {
     "data": {
      "text/plain": [
       "<Figure size 640x480 with 1 Axes>"
      ],
      "image/png": "[encoded data removed]"
     },
     "metadata": {},
     "output_type": "display_data"
    },
    {
     "data": {
      "text/plain": [
       "<Figure size 640x480 with 1 Axes>"
      ],
      "image/png": "[encoded data removed]"
     },
     "metadata": {},
     "output_type": "display_data"
    }
   ],
   "execution_count": 25
  }
 ],
 "metadata": {
  "kernelspec": {
   "display_name": "Python 3",
   "language": "python",
   "name": "python3"
  },
  "language_info": {
   "codemirror_mode": {
    "name": "ipython",
    "version": 2
   },
   "file_extension": ".py",
   "mimetype": "text/x-python",
   "name": "python",
   "nbconvert_exporter": "python",
   "pygments_lexer": "ipython2",
   "version": "2.7.6"
  }
 },
 "nbformat": 4,
 "nbformat_minor": 5
}
